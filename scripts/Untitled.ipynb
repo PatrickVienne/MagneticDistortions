{
 "cells": [
  {
   "cell_type": "code",
   "execution_count": 1,
   "metadata": {
    "collapsed": false
   },
   "outputs": [
    {
     "data": {
      "text/plain": [
       "'H:\\\\Master-Indoors-Project\\\\Magnetics\\\\scripts'"
      ]
     },
     "execution_count": 1,
     "metadata": {},
     "output_type": "execute_result"
    }
   ],
   "source": [
    "import os\n",
    "os.getcwd()"
   ]
  },
  {
   "cell_type": "code",
   "execution_count": 2,
   "metadata": {
    "collapsed": false
   },
   "outputs": [],
   "source": [
    "import os\n",
    "import sys\n",
    "import numpy as np\n",
    "module_path = os.path.abspath(os.path.join('..','src'))\n",
    "if module_path not in sys.path:\n",
    "    sys.path.append(module_path)\n",
    "    \n",
    "from data_labels import APARTMENT_WALKS_BAD, APARTMENT_WALKS_IBO, APARTMENT_WALKS_RICCI\n",
    "from sensor import SensorData\n",
    "import matplotlib.pyplot as plt"
   ]
  },
  {
   "cell_type": "code",
   "execution_count": 3,
   "metadata": {
    "collapsed": false
   },
   "outputs": [],
   "source": [
    "#setup the datasets to be used and the containers for processed data\n",
    "data_sets = [APARTMENT_WALKS_BAD,APARTMENT_WALKS_RICCI,APARTMENT_WALKS_IBO]\n",
    "trainings = []\n",
    "tests = []"
   ]
  },
  {
   "cell_type": "code",
   "execution_count": 4,
   "metadata": {
    "collapsed": false
   },
   "outputs": [],
   "source": [
    "#test for Bath\n",
    "bath_folder = APARTMENT_WALKS_BAD\n",
    "bath_files = os.listdir(bath_folder)\n",
    "bath_test = []\n",
    "bath_training = []\n",
    "get_test = True"
   ]
  },
  {
   "cell_type": "code",
   "execution_count": 5,
   "metadata": {
    "collapsed": false
   },
   "outputs": [
    {
     "name": "stdout",
     "output_type": "stream",
     "text": [
      "Sensor_record_20160912_092941_AndroSensor\n",
      "Sensor_record_20160912_093016_AndroSensor\n",
      "Sensor_record_20160912_093055_AndroSensor\n",
      "Sensor_record_20160912_093123_AndroSensor\n",
      "Sensor_record_20160912_093159_AndroSensor\n",
      "Sensor_record_20160912_093230_AndroSensor\n"
     ]
    }
   ],
   "source": [
    "for csv_file in bath_files:\n",
    "    name,ext = os.path.splitext(csv_file)\n",
    "    if ext != '.csv':\n",
    "        continue\n",
    "    print name\n",
    "    csv_file = os.path.join(bath_folder,csv_file)\n",
    "    sensordata = SensorData(csv_file)\n",
    "    if get_test:\n",
    "        bath_test.append(sensordata.magnetic())\n",
    "        get_test = False\n",
    "    else:\n",
    "        bath_training.append(sensordata.magnetic())"
   ]
  },
  {
   "cell_type": "code",
   "execution_count": 6,
   "metadata": {
    "collapsed": false
   },
   "outputs": [
    {
     "data": {
      "text/plain": [
       "(                         MAGNETIC FIELD X (μT)  MAGNETIC FIELD Y (μT)  \\\n",
       " YYYY-MO-DD HH-MI-SS_SSS                                                 \n",
       " 2016-09-12 09:29:26.131                -18.375                 -3.020   \n",
       " 2016-09-12 09:29:26.631                -19.147                 -1.926   \n",
       " 2016-09-12 09:29:27.131                -19.753                 -2.582   \n",
       " 2016-09-12 09:29:27.631                -17.224                 -4.562   \n",
       " 2016-09-12 09:29:28.132                -22.020                 -0.624   \n",
       " \n",
       "                          MAGNETIC FIELD Z (μT)  \n",
       " YYYY-MO-DD HH-MI-SS_SSS                         \n",
       " 2016-09-12 09:29:26.131                -42.883  \n",
       " 2016-09-12 09:29:26.631                -42.274  \n",
       " 2016-09-12 09:29:27.131                -41.801  \n",
       " 2016-09-12 09:29:27.631                -43.388  \n",
       " 2016-09-12 09:29:28.132                -39.372  ,\n",
       "                          MAGNETIC FIELD X (μT)  MAGNETIC FIELD Y (μT)  \\\n",
       " YYYY-MO-DD HH-MI-SS_SSS                                                 \n",
       " 2016-09-12 09:30:03.200                -17.729                 -1.685   \n",
       " 2016-09-12 09:30:03.700                -17.393                 -0.761   \n",
       " 2016-09-12 09:30:04.200                -17.383                 -4.430   \n",
       " 2016-09-12 09:30:04.700                -16.507                 -3.302   \n",
       " 2016-09-12 09:30:05.200                -17.934                 -5.162   \n",
       " \n",
       "                          MAGNETIC FIELD Z (μT)  \n",
       " YYYY-MO-DD HH-MI-SS_SSS                         \n",
       " 2016-09-12 09:30:03.200                -42.937  \n",
       " 2016-09-12 09:30:03.700                -43.732  \n",
       " 2016-09-12 09:30:04.200                -40.857  \n",
       " 2016-09-12 09:30:04.700                -41.586  \n",
       " 2016-09-12 09:30:05.200                -40.291  )"
      ]
     },
     "execution_count": 6,
     "metadata": {},
     "output_type": "execute_result"
    }
   ],
   "source": [
    "bath_test[0].head(), bath_training[0].head()"
   ]
  },
  {
   "cell_type": "code",
   "execution_count": 7,
   "metadata": {
    "collapsed": true
   },
   "outputs": [],
   "source": [
    "from fastdtw import fastdtw\n",
    "from scipy.spatial.distance import euclidean"
   ]
  },
  {
   "cell_type": "code",
   "execution_count": 8,
   "metadata": {
    "collapsed": false
   },
   "outputs": [
    {
     "name": "stdout",
     "output_type": "stream",
     "text": [
      "0 46.46\n",
      "1 72.529\n",
      "2 34.355\n"
     ]
    }
   ],
   "source": [
    "for i in range(3):\n",
    "    distance, path = fastdtw(bath_test[0].iloc[:,i],  bath_training[0].iloc[:,i], dist=euclidean)\n",
    "    print i,distance"
   ]
  },
  {
   "cell_type": "code",
   "execution_count": 9,
   "metadata": {
    "collapsed": false
   },
   "outputs": [],
   "source": [
    "from matplotlib import collections  as mc\n",
    "def dtw_plot(x, y, path, distance):\n",
    "    fig, axs = plt.subplots(1, 3)\n",
    "\n",
    "\n",
    "    axs[0].plot(x[:, 0], x[:, 1], color=\"green\", label='x')\n",
    "    axs[0].plot(y[:, 0], y[:, 1], color=\"red\", label='y')\n",
    "\n",
    "\n",
    "    axs[1].scatter(x=np.array(path)[:, 0], y=np.array(path)[:, 1], label='dtw:path')\n",
    "\n",
    "    # create lines using the paths data and the dataframes\n",
    "    lines = [[x[p1], y[p2]] for p1, p2 in zip(np.array(path)[:, 0], np.array(path)[:, 1])]\n",
    "    # add to line collection\n",
    "    lc = mc.LineCollection(lines, linewidths=2, label='dtw:shortest')\n",
    "    # plot the line collection\n",
    "    axs[2].add_collection(lc)\n",
    "    axs[2].autoscale()\n",
    "    axs[2].margins(0.1)\n",
    "    axs[2].plot(x[:, 0], x[:, 1], color=\"green\", label='x')\n",
    "    axs[2].plot(y[:, 0], y[:, 1], color=\"red\", label='y')\n",
    "\n",
    "    # show all legends\n",
    "    for ax in axs:\n",
    "        ax.legend()\n",
    "\n",
    "    plt.suptitle(\"DTW - TEST \\n Distance:%f\"%distance)\n",
    "\n",
    "    return fig, axs, plt"
   ]
  },
  {
   "cell_type": "code",
   "execution_count": 10,
   "metadata": {
    "collapsed": false
   },
   "outputs": [
    {
     "name": "stdout",
     "output_type": "stream",
     "text": [
      "57.9633790819\n",
      "85.9253328167\n",
      "45.5651955698\n"
     ]
    }
   ],
   "source": [
    "for i in range(3):\n",
    "    x = np.array(zip(bath_test[0].iloc[:,i].index.to_series().diff().dt.total_seconds().fillna(0).cumsum().values,bath_test[0].iloc[:,i]))\n",
    "    y = np.array(zip(bath_training[0].iloc[:,i].index.to_series().diff().dt.total_seconds().fillna(0).cumsum().values,bath_training[0].iloc[:,i]))\n",
    "    distance, path = fastdtw(x, y, dist=euclidean)\n",
    "    print distance\n",
    "    #fig, axs, done_plt = dtw_plot(x, y, path, distance)\n",
    "    #done_plt.show()"
   ]
  },
  {
   "cell_type": "code",
   "execution_count": null,
   "metadata": {
    "collapsed": false
   },
   "outputs": [],
   "source": []
  },
  {
   "cell_type": "code",
   "execution_count": null,
   "metadata": {
    "collapsed": false
   },
   "outputs": [],
   "source": []
  },
  {
   "cell_type": "code",
   "execution_count": null,
   "metadata": {
    "collapsed": true
   },
   "outputs": [],
   "source": []
  }
 ],
 "metadata": {
  "kernelspec": {
   "display_name": "Python [Root]",
   "language": "python",
   "name": "Python [Root]"
  },
  "language_info": {
   "codemirror_mode": {
    "name": "ipython",
    "version": 2
   },
   "file_extension": ".py",
   "mimetype": "text/x-python",
   "name": "python",
   "nbconvert_exporter": "python",
   "pygments_lexer": "ipython2",
   "version": "2.7.12"
  }
 },
 "nbformat": 4,
 "nbformat_minor": 0
}
